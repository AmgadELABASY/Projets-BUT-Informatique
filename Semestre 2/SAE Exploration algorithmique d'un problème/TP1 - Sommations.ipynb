{
 "cells": [
  {
   "cell_type": "markdown",
   "id": "varied-estimate",
   "metadata": {},
   "source": [
    "<div id=\"haut2page\" style=\"border:3px solid black; padding:3%; font-size:314% ; text-align:center; background-color:rgba(255, 0, 0, 0.57);\">\n",
    "    Exploration des sommations discrètes\n",
    "</div>\n",
    "\n",
    "<details>\n",
    "    <summary><strong style=\"font-size:1.414em\">Technologie jupyter (cliquez pour ouvrir)</strong></summary>\n",
    "<p>\n",
    "    La technologie <em>jupyter</em> permet d'exécuter du code python par un simple clique sur <em>Executer</em> ci-dessus.<br> \n",
    "    Les morceaux de code de cette page sont interprétées case par case. Pour savoir quelle case a été interprétée avant une autre, il suffit de repérer le numéro devant la case. <br>\n",
    "    Une fois qu'une case a été interprétée (=exécutée), la page garde en mémoire les variables et fonctions lues<br>\n",
    "    La plateforme propose quelques outils de purge de la mémoire : \n",
    "    <ul>\n",
    "    <li>Il est possible de tout recommencer (dénuméroter) en choisissant dans le menu <em>Kernel</em> ci-dessus <em>Restart & Clear Output</em> pour purger la mémoire de toutes ses variables et de toutes ses executions </li> \n",
    "    <li>Dans le menu <em>Kernel</em> choisir <em>Restard & Run All</em> aura le même effet que <em>Restart & Clear Output</em> mais en plus relancera chacune des cases depuis le haut du document jusqu'en bas (renuméroter).</li>\n",
    "    </ul>\n",
    "</p>\n",
    "<div style=\"background-color:rgba(255, 0, 0, 0.19);padding:3%;\">\n",
    "    <h3 style=\"color:red;\">SAUVEGARDER VOTRE TRAVAIL</h3>\n",
    "    <p>\n",
    "        Pour ne pas perdre votre travail pensez à le sauvegarder régulièrement. Par défault, la sauvegarde par un clic sur la disquette en haut à gauche de page, ou par le racourci clavier classique <code>ctrl+S</code>\n",
    "    est une sauvegarde en local, sur le serveur de jupyter. Vous pouvez et devez très régulièrement sauvegarder votre travail sur votre support personnel de sauvegarde (clef USB, se l'envoyer par mail etc). Ce faisant vous disposerez d'un fichier  .ipynb (IPYthon NoteBook) qu'il vous suffira de recharger  pour avancer. Après le rechargement assurez vous que les fonctionnalités anciennement developpées et variables utilisées sont bien <em>dans la mémoire de la page</em> (en rééxecutant les cases, ou plus rapidement par <em>Kernel &gt; Restart & Run All</em>.</p>\n",
    "    <p> A NOTER : vous pouvez travailler sur le tp (et tout autre fichier .ipynb) hors connexion en installant une version local du notebook de jupyter. Il faut que votre machine possède un interpreteur de python et que vous soyez connecter à internet.\n",
    "        <ol>\n",
    "            <li>Lancer un terminal</li>\n",
    "            <li>Taper la commande suivante : <code>pip install jupyterlab</code></li>\n",
    "            <li>Une fois l'installation terminée portez votre attention sur les dernières lignes affichées dans votre terminal vous invitant probablement à taper une ligne de commande pour faire une mise à jour</li>\n",
    "            <li>Pour lancer notebook de jupyter, taper dans votre termial : <code>jupyter notebook</code></li>\n",
    "            <li>Votre simulateur de serveur est lancé. Il ne faut pas fermer votre terminal, auquel cas votre simulateur de serveur s'interompera. Suivez le lien indiqué dans les dernières lignes de votre terminal pour vous diriger vers votre espace local. L'interface se présente comme celle que vous trouverez sur le web. Votre travail sera cependant toujours enregistré et jamais perdu même si vous le consultez après plusieurs jours </li>\n",
    "        </ol>\n",
    "    </p>\n",
    "</div>\n",
    "</details>"
   ]
  },
  {
   "cell_type": "markdown",
   "id": "applicable-plastic",
   "metadata": {},
   "source": [
    "<p>\n",
    "    Il ne s'agit pas ici de faire un cours de python mais simplement de rappeler les éléments majeurs que nous allons utiliser pour programmer. Si vous êtes familier avec le langage vous pouvez aller directement à la première partie.\n",
    "    <details>\n",
    "        <summary><strong>Les tableaux (cliquez pour ouvrir)</strong></summary>\n",
    "        Il existe plusieurs moyens de faire des tableaux en python. Nous revennons sur les deux dont nous abuserons tout au long de ce TP : \n",
    "        <ol>\n",
    "            <li><strong>Les listes</strong><br>\n",
    "            Il est nécessaire de déclarer les listes. Pour ce faire, il suffit d'écrire<br>\n",
    "                <div style=\"font-family:'Courier New'; font-weight:bold;padding:3%; margin:3%; background-color:rgba(0, 255, 0, 0.19);\">L=[]</div>\n",
    "                Pour ajouter un élément à une liste, il faut utiliser <code>append</code> qui va ajouter la valeur passée en paramètre à la fin du tableau.<br>\n",
    "                <div style=\"font-family:'Courier New'; font-weight:bold;padding:3%; margin:3%; background-color:rgba(0, 255, 0, 0.19);\">L=[]<br>L.append(4)</div>\n",
    "            </li>\n",
    "            <li><strong>Les dictionnaires</strong><br>\n",
    "            Il est nécessaire de déclarer les dictionnaires. Pour ce faire, il suffit d'écrire<br>\n",
    "                <div style=\"font-family:'Courier New'; font-weight:bold;padding:3%; margin:3%; background-color:rgba(0, 255, 0, 0.19);\">L=dict()</div>\n",
    "                Pour ajouter un élément à une liste, il suffit de préciser la valeur à donner à la case souhaitée.<br>\n",
    "                <div style=\"font-family:'Courier New'; font-weight:bold;padding:3%; margin:3%; background-color:rgba(0, 255, 0, 0.19);\">L=dict()<br>L[0]=4</div>\n",
    "            </li>\n",
    "        </ol>\n",
    "        Si vous n'êtes pas très familier avec les tableaux, le choix des dictionnaires est un bon compromis.<br>\n",
    "        Quelque soit le choix de structure que vous faites, la fonction <code>len</code> vous donnera la taille du tableau.\n",
    "        <div style=\"font-family:'Courier New'; font-weight:bold;padding:3%; margin:3%; background-color:rgba(0, 255, 0, 0.19);\">L=[]<br>print(len(L))#Affichera 0<br>L.append(4)<br>L.append(-1)<br>print(len(L))#Affichera 2</div>\n",
    "        Enfin, gardez en mémoire qu'une tableau est en fait une adresse de ce fait, passer des tableaux en paramètre de fonction ne crée pas de copie des tableaux mais modifie bien le tableau originel. Il vous appartient de maitriser et de ne pas écraser les données du tableau en créant une copie.\n",
    "    </details>\n",
    "    <details>\n",
    "        <summary><strong>Les boucles (cliquez pour ouvrir)</strong></summary>\n",
    "        Il existe en python deux outils permettant de faire des boucles.\n",
    "        <ol>\n",
    "            <li><code>while</code><br>\n",
    "            C'est la boucle la plus confortable mais qui peut générer des itérations infinies si le test n'est pas bien pensé ou l'itérateur mal incrémenté<br>\n",
    "                <div style=\"font-family:'Courier New'; font-weight:bold;padding:3%; margin:3%; background-color:rgba(0, 255, 0, 0.19);\">while(test) :</div>\n",
    "            </li>\n",
    "            <li><strong style=\"font-family:'Courier New';\">for</strong><br>\n",
    "            Une fois cette boucle lancée, nul besoin de controler l'itérateur ou de gérer le test. Lorsque l'on veut parcourir les entiers entre $a$ et $b$ d'un pas de $p$ on l'utilise avec <code>range(a, b, p)</code> qui génére un tableau (liste) de nombre entre $a$ et $b-1$ de $p$ en $p$ <br>\n",
    "                <div style=\"font-family:'Courier New'; font-weight:bold;padding:3%; margin:3%; background-color:rgba(0, 255, 0, 0.19);\">for i in range(-4, 8, 3) :</div>\n",
    "                Dans cette exemple, la variable $i$ (l'itérateur), vaudra succésivement $-4$, $-1$, $2$ et  $5$ (le $8$ n'est pas atteint car <code>range(a, b, p)</code> créé une liste d'entier entre $a$ et $b-1$).<br>\n",
    "                La boucle <code>for</code> permet de se servir de n'importe quel tableau comme ensemble d'indice. Attention cependant, dictionnaire et liste n'engendre pas le même ensemble.\n",
    "                <div style=\"font-family:'Courier New'; font-weight:bold;padding:3%; margin:3%; background-color:rgba(0, 255, 0, 0.19);\">\n",
    "                    L=[1, 2, 4]<br>\n",
    "                    for i in L :\n",
    "                </div>\n",
    "                Dans cet exemple $L[0]=1$, $L[1]=2$ et $L[2]=4$ tandis que l'itérateur $i$ vaut succéssivement $1$, $2$ et $4$ c'est à dire <u>les valeurs de la liste</u><br>\n",
    "                <div style=\"font-family:'Courier New'; font-weight:bold;padding:3%; margin:3%; background-color:rgba(0, 255, 0, 0.19);\">\n",
    "                    L={0:1, 1: 2, 2:4}<br>\n",
    "                    for i in L :\n",
    "                </div>\n",
    "                Dans cet exemple nous avons aussi $L[0]=1$, $L[1]=2$ et $L[2]=4$ bien que $L$ soit un dictionnaire et non une liste comme précédement. Cependant l'itérateur $i$ vaut succéssivement $0$, $1$ et $2$ c'est à dire <u>les clefs des valeurs du dictionnaire</u><br>\n",
    "            </li>\n",
    "        </ol>\n",
    "    </details>\n",
    "</p>"
   ]
  },
  {
   "cell_type": "markdown",
   "id": "allied-shuttle",
   "metadata": {},
   "source": [
    "<p>Considérons la liste suivante</p>"
   ]
  },
  {
   "cell_type": "code",
   "execution_count": null,
   "id": "warming-mailman",
   "metadata": {},
   "outputs": [],
   "source": [
    "L=list(range(0, 20, 3))\n",
    "print(L)"
   ]
  },
  {
   "cell_type": "markdown",
   "id": "precious-argentina",
   "metadata": {},
   "source": [
    "<p>Nous souhaitons faire la somme des carrés des termes de cette suite. Voici deux solutions : une avec la boucle <code>while</code> et l'autre avec la boucle <code>for</code>.</p>"
   ]
  },
  {
   "cell_type": "code",
   "execution_count": null,
   "id": "victorian-chosen",
   "metadata": {},
   "outputs": [],
   "source": [
    "#Avec une boucle while (6 lignes)\n",
    "res1=0\n",
    "i=0\n",
    "while(i<len(L)) : \n",
    "    res1+=L[i]**2\n",
    "    i+=1\n",
    "print(\"res1 =\", res1)\n",
    "\n",
    "#Avec une boucle for (3 lignes)\n",
    "res2=0\n",
    "for x in L : res2+=x**2\n",
    "print(\"res2 =\", res2)"
   ]
  },
  {
   "cell_type": "markdown",
   "id": "suspected-london",
   "metadata": {},
   "source": [
    "<h3>Exercice 1</h3>\n",
    "<p>Donner la liste des 100 premier terme de la suite $u_n=\\dfrac{(-1)^n+1}{2}$.</p>"
   ]
  },
  {
   "cell_type": "code",
   "execution_count": null,
   "id": "discrete-suggestion",
   "metadata": {},
   "outputs": [],
   "source": []
  },
  {
   "cell_type": "markdown",
   "id": "greatest-draft",
   "metadata": {},
   "source": [
    "<p>Suivant la parité de $n$, on observe que $u_n$ prend des valeurs bien particulière. Ecrire une fonction <code>f</code> qui prend un paramètre <code>n</code> et renvoie $u_n$ sans calculer $\\dfrac{(-1)^n+1}{2}$. Exécuter la case suivante permettant de vérifier votre formule.</p>"
   ]
  },
  {
   "cell_type": "code",
   "execution_count": null,
   "id": "stupid-wheel",
   "metadata": {},
   "outputs": [],
   "source": [
    "def f(n) :\n",
    "    return 0.0"
   ]
  },
  {
   "cell_type": "code",
   "execution_count": null,
   "id": "distributed-disclosure",
   "metadata": {},
   "outputs": [],
   "source": [
    "N=[0, 10, 25, 50, 75]\n",
    "for n in N : \n",
    "    print(\"Pour n =\", n, \"\\n\\tFormule1 =\", Un[n], \"\\n\\tFormule2 =\", f(n))\n",
    "    if(Un[n]==f(n)) : print(\"\\tTout va bien\")\n",
    "    else : print(\"\\tPROBLEME !!!\")"
   ]
  },
  {
   "cell_type": "markdown",
   "id": "agreed-permission",
   "metadata": {},
   "source": [
    "<p>Nous allons comparer les temps de calculs. Pour cela nous avons besoin de la fonction <code>time</code> de la bibliothèque éponyme.</p>"
   ]
  },
  {
   "cell_type": "code",
   "execution_count": null,
   "id": "damaged-metro",
   "metadata": {},
   "outputs": [],
   "source": [
    "from time import time"
   ]
  },
  {
   "cell_type": "markdown",
   "id": "eight-cathedral",
   "metadata": {},
   "source": [
    "<p>Pour déterminer le nombre de seconde écouler depuis le 1er janvier 1970, on appel la fonction <code>time</code> sans paramètre.</p>"
   ]
  },
  {
   "cell_type": "code",
   "execution_count": null,
   "id": "composite-plain",
   "metadata": {},
   "outputs": [],
   "source": [
    "x=time()\n",
    "print(x)"
   ]
  },
  {
   "cell_type": "markdown",
   "id": "falling-marketplace",
   "metadata": {},
   "source": [
    "<p>Ainsi pour déterminer le temps d'exécution d'un programe, on fait un top avant l'algorithme et un top à la fin. La différence de ces deux top donnera donc le nombre de seconde écouler le temps de l'éxécution du programme.</p>"
   ]
  },
  {
   "cell_type": "code",
   "execution_count": null,
   "id": "endangered-scanning",
   "metadata": {},
   "outputs": [],
   "source": [
    "top=time()\n",
    "for i in range(10**6) : \n",
    "    i=i**2\n",
    "print(\"Temps :\", time()-top)"
   ]
  },
  {
   "cell_type": "markdown",
   "id": "improving-guatemala",
   "metadata": {},
   "source": [
    "<p>Le code suivant donne le temps de calcul de $u_{n}$ pour $n=10^{10^6}$ (dix puissance un million)</p>"
   ]
  },
  {
   "cell_type": "code",
   "execution_count": null,
   "id": "descending-brush",
   "metadata": {},
   "outputs": [],
   "source": [
    "n=10**(10**6) #On place le calcul de n avant le comptage du temps de calcul\n",
    "top=time()\n",
    "x=((-1)**(n)+1)/2\n",
    "print(\"Temps de calcul de u_n :\", time()-top)"
   ]
  },
  {
   "cell_type": "markdown",
   "id": "hairy-vaccine",
   "metadata": {},
   "source": [
    "<p>Faisons le même calcul en passant par la fonction <code>f</code> déterminée précédement.</p>"
   ]
  },
  {
   "cell_type": "code",
   "execution_count": null,
   "id": "blank-destruction",
   "metadata": {},
   "outputs": [],
   "source": [
    "n=10**(10**6)\n",
    "top=time()\n",
    "x=f(n)\n",
    "print(\"Temps de calcul de u_n :\", time()-top)"
   ]
  },
  {
   "cell_type": "markdown",
   "id": "adaptive-thread",
   "metadata": {},
   "source": [
    "<p>Ainsi avoir remarqué que $u_n=f(n)$ pour une fonction $f$ pas trop compliqué simplifie considérablement les temps de calcul.</p>"
   ]
  },
  {
   "cell_type": "markdown",
   "id": "becoming-retro",
   "metadata": {},
   "source": [
    "<p>Calculer $\\displaystyle{\\sum_{n=0}^{99}u_n}$.</p>"
   ]
  },
  {
   "cell_type": "code",
   "execution_count": null,
   "id": "professional-variety",
   "metadata": {},
   "outputs": [],
   "source": []
  },
  {
   "cell_type": "markdown",
   "id": "noticed-count",
   "metadata": {},
   "source": [
    "<p>Calculer $\\displaystyle{\\sum_{n=0}^{999999}u_n}$.</p>"
   ]
  },
  {
   "cell_type": "code",
   "execution_count": null,
   "id": "medical-suspect",
   "metadata": {},
   "outputs": [],
   "source": []
  },
  {
   "cell_type": "markdown",
   "id": "finite-illustration",
   "metadata": {},
   "source": [
    "<h3>Exercice 2</h3>\n",
    "<p>On peut montrer par récurrence que $\\displaystyle{\\sum_{k=0}^n k=\\dfrac{n(n+1)}{2}}$. Calculer la somme pour $n=10$, $n=1000$ et $n=1983$ et vérifier qu'elle est bien égale à l'expression $\\dfrac{n(n+1)}{2}$</p>"
   ]
  },
  {
   "cell_type": "code",
   "execution_count": null,
   "id": "physical-mechanism",
   "metadata": {},
   "outputs": [],
   "source": []
  },
  {
   "cell_type": "markdown",
   "id": "multiple-migration",
   "metadata": {},
   "source": [
    "<h3>Exercice 3</h3>\n",
    "<p>On peut montrer par récurrence que $\\displaystyle{\\sum_{k=0}^n k^2=\\dfrac{n(n+1)(2n-1)}{6}}$. Calculer la somme pour $n=10$, $n=1000$ et $n=1983$ et vérifier qu'elle est bien égale à l'expression $\\dfrac{n(n+1)(2n+1)}{6}$</p>"
   ]
  },
  {
   "cell_type": "code",
   "execution_count": null,
   "id": "quiet-chuck",
   "metadata": {},
   "outputs": [],
   "source": []
  },
  {
   "cell_type": "markdown",
   "id": "hundred-bibliography",
   "metadata": {},
   "source": [
    "<h3>Exercice 4</h3>\n",
    "<p>On peut montrer par récurrence que $\\displaystyle{\\sum_{k=0}^n 2^k=2^{n+1}-1}$. Calculer la somme pour $n=10$, $n=1000$ et $n=1983$ et vérifier qu'elle est bien égale à l'expression $2^{n+1}-1$</p>"
   ]
  },
  {
   "cell_type": "code",
   "execution_count": null,
   "id": "approved-glasgow",
   "metadata": {},
   "outputs": [],
   "source": []
  },
  {
   "cell_type": "markdown",
   "id": "equal-rings",
   "metadata": {},
   "source": [
    "<h3>Exercice 5</h3>\n",
    "<p>On peut montrer que pour tout $x\\in\\mathbb{R}_+$, il existe un entier $N\\in \\mathbb{N}$ tel que $\\displaystyle{\\sum_{n=1}^{N}\\dfrac{1}{n}>x}$. Déterminer le plus petit $N$ pour $x=5$, $x=10$, $x=15$ et $x=20$. Mesurer les temps de calcul.</p>"
   ]
  },
  {
   "cell_type": "code",
   "execution_count": null,
   "id": "great-coating",
   "metadata": {},
   "outputs": [],
   "source": []
  }
 ],
 "metadata": {
  "kernelspec": {
   "display_name": "Python 3 (ipykernel)",
   "language": "python",
   "name": "python3"
  },
  "language_info": {
   "codemirror_mode": {
    "name": "ipython",
    "version": 3
   },
   "file_extension": ".py",
   "mimetype": "text/x-python",
   "name": "python",
   "nbconvert_exporter": "python",
   "pygments_lexer": "ipython3",
   "version": "3.9.13"
  }
 },
 "nbformat": 4,
 "nbformat_minor": 5
}
