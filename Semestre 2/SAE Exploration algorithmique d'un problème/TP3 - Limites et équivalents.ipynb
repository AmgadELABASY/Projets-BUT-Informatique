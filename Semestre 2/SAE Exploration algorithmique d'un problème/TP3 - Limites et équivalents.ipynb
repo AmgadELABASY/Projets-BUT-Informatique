{
 "cells": [
  {
   "cell_type": "markdown",
   "metadata": {},
   "source": [
    "<div id=\"haut2page\" style=\"border:3px solid black; padding:3%; font-size:314% ; text-align:center; background-color:rgba(255, 0, 0, 0.57);\">\n",
    "    Limites &amp; Equivalents\n",
    "</div>\n",
    "\n",
    "<details>\n",
    "    <summary><strong style=\"font-size:1.414em\">Technologie jupyter (cliquez pour ouvrir)</strong></summary>\n",
    "<p>\n",
    "    La technologie <em>jupyter</em> permet d'exécuter du code python par un simple clique sur <em>Executer</em> ci-dessus.<br> \n",
    "    Les morceaux de code de cette page sont interprétées case par case. Pour savoir quelle case a été interprétée avant une autre, il suffit de repérer le numéro devant la case. <br>\n",
    "    Une fois qu'une case a été interprétée (=exécutée), la page garde en mémoire les variables et fonctions lues<br>\n",
    "    La plateforme propose quelques outils de purge de la mémoire : \n",
    "    <ul>\n",
    "    <li>Il est possible de tout recommencer (dénuméroter) en choisissant dans le menu <em>Kernel</em> ci-dessus <em>Restart & Clear Output</em> pour purger la mémoire de toutes ses variables et de toutes ses executions </li> \n",
    "    <li>Dans le menu <em>Kernel</em> choisir <em>Restard & Run All</em> aura le même effet que <em>Restart & Clear Output</em> mais en plus relancera chacune des cases depuis le haut du document jusqu'en bas (renuméroter).</li>\n",
    "    </ul>\n",
    "</p>\n",
    "<div style=\"background-color:rgba(255, 0, 0, 0.19);padding:3%;\">\n",
    "    <h3 style=\"color:red;\">SAUVEGARDER VOTRE TRAVAIL</h3>\n",
    "    <p>\n",
    "        Pour ne pas perdre votre travail pensez à le sauvegarder régulièrement. Par défault, la sauvegarde par un clic sur la disquette en haut à gauche de page, ou par le racourci clavier classique <code>ctrl+S</code>\n",
    "    est une sauvegarde en local, sur le serveur de jupyter. Vous pouvez et devez très régulièrement sauvegarder votre travail sur votre support personnel de sauvegarde (clef USB, se l'envoyer par mail etc). Ce faisant vous disposerez d'un fichier  .ipynb (IPYthon NoteBook) qu'il vous suffira de recharger  pour avancer. Après le rechargement assurez vous que les fonctionnalités anciennement developpées et variables utilisées sont bien <em>dans la mémoire de la page</em> (en rééxecutant les cases, ou plus rapidement par <em>Kernel &gt; Restart & Run All</em>.</p>\n",
    "    <p> A NOTER : vous pouvez travailler sur le tp (et tout autre fichier .ipynb) hors connexion en installant une version local du notebook de jupyter. Il faut que votre machine possède un interpreteur de python et que vous soyez connecter à internet.\n",
    "        <ol>\n",
    "            <li>Lancer un terminal</li>\n",
    "            <li>Taper la commande suivante : <code>pip install jupyterlab</code></li>\n",
    "            <li>Une fois l'installation terminée portez votre attention sur les dernières lignes affichées dans votre terminal vous invitant probablement à taper une ligne de commande pour faire une mise à jour</li>\n",
    "            <li>Pour lancer notebook de jupyter, taper dans votre termial : <code>jupyter notebook</code></li>\n",
    "            <li>Votre simulateur de serveur est lancé. Il ne faut pas fermer votre terminal, auquel cas votre simulateur de serveur s'interompera. Suivez le lien indiqué dans les dernières lignes de votre terminal pour vous diriger vers votre espace local. L'interface se présente comme celle que vous trouverez sur le web. Votre travail sera cependant toujours enregistré et jamais perdu même si vous le consultez après plusieurs jours </li>\n",
    "        </ol>\n",
    "    </p>\n",
    "</div>\n",
    "</details>"
   ]
  },
  {
   "cell_type": "markdown",
   "metadata": {},
   "source": [
    "Quelques fonctions utiles dans la suite."
   ]
  },
  {
   "cell_type": "code",
   "execution_count": null,
   "metadata": {},
   "outputs": [],
   "source": [
    "from math import *\n",
    "from matplotlib.pyplot import *"
   ]
  },
  {
   "cell_type": "markdown",
   "metadata": {},
   "source": [
    "<div style = \"background-color:rgba(0,79,255,0.3); vertical-align:middle;padding:1%;margin:3% 5% 3% 5%;border:3px black solid;border-radius:13px;\">\n",
    "<u><b>Définition</b></u><br>\n",
    "\n",
    "On dira que deux suites $ u$  et $ v$  toutes deux non nulle à partir d'une certain rang, sont <span class=\"textbf\">équivalentes</span>, noté $ u\\sim v$  ou $ u_n\\sim v_n$  si\n",
    "<!--MMM-->$$\\underset{n\\rightarrow+\\infty}{\\lim}\\dfrac{u_n}{v_n}=1$$<!--MMM-->\n",
    "\n",
    "</div>\n",
    "\n",
    "\n",
    "Voici l'exemple canonique.\n",
    "\n",
    "\n",
    "<div style = \"background-color:rgba(255,79,0,0.3);vertical-align:middle;padding:1%;margin:3% 5% 3% 5%;border:3px black solid;border-radius:13px;box-shadow:9px 9px 9px black;\">\n",
    "<u><b>Proposition</b></u><br>\n",
    "\n",
    "Soit $ P$  un polynôme non nul de degré $ p$  et de coefficient dominant $ a\\neq 0$ . \n",
    "<!--MMM-->$$P(n)\\sim an^p$$<!--MMM-->\n",
    "\n",
    "</div>\n",
    "\n",
    "\n",
    "<div style = \"vertical-align:middle;padding:1%;margin:3% 9% 3% 9%;border-left:1px black solid;border-bottom:1px black solid;font-size:small;font-style:italic;\">\n",
    "<h4>Démonstration</h4>\n",
    "\n",
    "Soit $ P(x)=\\displaystyle{\\sum_{i=0}^pa_ix^i}$ . Avec les notations de l'énoncé on a $ a_p=a$  nécessairement non nul par la définition du degré. Alors\n",
    "\n",
    "<!--MM-->\\begin{eqnarray*}\n",
    "\\dfrac{P(n)}{an^p}\n",
    "&=&\\dfrac{\\displaystyle{\\sum_{i=0}^pa_in^i}}{an^p}\\\\\n",
    "&=&\\sum_{i=0}^p\\dfrac{a_in^i}{an^p}\\\\\n",
    "&=&\\sum_{i=0}^p\\dfrac{a_i}{a}n^{i-p}\n",
    "\\end{eqnarray*}<!--MM-->\n",
    "\n",
    "Or pour $ i$  entre $ 0$  et $ p$  le nombre $ i-p\\leqslant 0$ . Précisément strictement inférieur à $ 0$  si $ i\\neq p$  de sorte que pour $ i\\neq p$ , $ \\underset{n\\rightarrow+\\infty}{\\lim}n^{i-p}=0$  et pour $ i=p$ , $ \\underset{n\\rightarrow+\\infty}{\\lim}n^{i-p}=1$ . Ce qui prouve le résultat.\n",
    "\n",
    "</div>\n",
    "\n",
    "\n",
    "Ainsi on a par exemple $ -3n^2-2n+100\\sim -3n^2$ . Cela signifie que pour de grande valeur de $n$ le nombre $-3n^2-2n+100$ et le nombre $-3n^2$ sont relativement proche."
   ]
  },
  {
   "cell_type": "markdown",
   "metadata": {},
   "source": [
    "<h3>Exercice 1</h3>\n",
    "<ol>\n",
    "    <li>Ecrire une fonction <code>f1(n)</code> qui renvoie $-3n^2-2n+100$</li>\n",
    "    <li>Ecrire une fonction <code>f2(n)</code> qui renvoie $-3n^2$</li>\n",
    "    <li>Comparer les valeurs de <code>f1(n)</code> et <code>f2(n)</code> pour $n\\in\\{10, 100, 1000, 10000, 100000, 1000000\\}$</li>\n",
    "</ol>"
   ]
  },
  {
   "cell_type": "code",
   "execution_count": null,
   "metadata": {},
   "outputs": [],
   "source": [
    "#1\n",
    "def f1(n) : return 0\n",
    "\n",
    "#2\n",
    "def f2(n) : return 0\n",
    "\n",
    "#3\n"
   ]
  },
  {
   "cell_type": "markdown",
   "metadata": {},
   "source": [
    "<p>Pour s'en convaincre une bonne fois pour toute, réalisons le graphique de ces deux suites (on choisit différents intervalles pour observer l'écart relatif).\n",
    "</p>"
   ]
  },
  {
   "cell_type": "code",
   "execution_count": null,
   "metadata": {},
   "outputs": [],
   "source": [
    "for n in [5, 10, 20, 50] :\n",
    "    N=list(range(n+1))\n",
    "    y1=[f1(n) for n in N]\n",
    "    y2=[f2(n) for n in N]\n",
    "\n",
    "    plot(N, y1, 'r', label=\"$-3x^2-2x+100$\")\n",
    "    plot(N, y2, 'b.', label=\"$-3x^2$\")\n",
    "    title(\"Comparaison des deux suites sur l'intervale $[0 ; \"+str(n)+\"]$\")\n",
    "    grid(True)\n",
    "    legend()\n",
    "    show()"
   ]
  },
  {
   "cell_type": "markdown",
   "metadata": {},
   "source": [
    "<h3>Exercice 2</h3>\n",
    "<p>En imitant le code précédent, comparer $u_n=\\dfrac{n+1}{\\sqrt{n}+1}$ et $v_n=\\sqrt{n}$, à l'aide d'un graphique. En déduire la limite de cette suite.</p>"
   ]
  },
  {
   "cell_type": "code",
   "execution_count": null,
   "metadata": {},
   "outputs": [],
   "source": []
  },
  {
   "cell_type": "markdown",
   "metadata": {},
   "source": [
    "<h3>Exercice 3</h3>\n",
    "<p>Trouver un équivalent à $u_n=\\dfrac{3n-1}{n^2+n+1}$ et vérifier votre résultat à l'aide d'un graphique. En déduire la limite de cette suite.</p>"
   ]
  },
  {
   "cell_type": "code",
   "execution_count": null,
   "metadata": {},
   "outputs": [],
   "source": []
  },
  {
   "cell_type": "markdown",
   "metadata": {},
   "source": [
    "<h3>Exercice 4</h3>\n",
    "<p>Trouver un équivalent à $u_n=\\dfrac{n^2-n+1}{n^2+n+1}$ et vérifier votre résultat à l'aide d'un graphique. En déduire la limite de cette suite.</p>"
   ]
  },
  {
   "cell_type": "code",
   "execution_count": null,
   "metadata": {},
   "outputs": [],
   "source": []
  },
  {
   "cell_type": "markdown",
   "metadata": {},
   "source": [
    "<h3>Formule de Stirling</h3>\n",
    "\n",
    "<div style = \"background-color:rgba(255,79,0,0.3);vertical-align:middle;padding:1%;margin:3% 5% 3% 5%;border:3px black solid;border-radius:13px;box-shadow:9px 9px 9px black;\">\n",
    "<u><b>Théorème</b></u><br>\n",
    "\n",
    "<!--MMM-->$$n!\\sim\\sqrt{2\\pi n}\\left(\\dfrac{n}{e}\\right)^n$$<!--MMM-->\n",
    "\n",
    "</div>\n",
    "Ecrire les fonctions <code>Factoriel(n)</code> et <code>Stirling(n)</code> qui renvoient respectivement $n!$ et $\\sqrt{2\\pi n}\\left(\\dfrac{n}{e}\\right)^n$.\n",
    "La troisième case permettra de visualiser les différentes valeurs de ces fonctions et de comparer les courbes, qui tendent à se rapprocher."
   ]
  },
  {
   "cell_type": "code",
   "execution_count": null,
   "metadata": {},
   "outputs": [],
   "source": [
    "def Factoriel(n) :\n",
    "    return 0"
   ]
  },
  {
   "cell_type": "code",
   "execution_count": null,
   "metadata": {},
   "outputs": [],
   "source": [
    "def Stirling(n) : return 0"
   ]
  },
  {
   "cell_type": "code",
   "execution_count": null,
   "metadata": {},
   "outputs": [],
   "source": [
    "for n in [3, 10, 25] :\n",
    "    x=list(range(0, n+1))\n",
    "    y1=[Factoriel(n) for n in x]\n",
    "    y2=[Stirling(n) for n in x]\n",
    "\n",
    "    plot(x, y1, 'r', label=\"n!\")\n",
    "    plot(x, y2, 'b.', label=\"Stirling\")\n",
    "    title(\"Représentation de $n!$ et son équivalent sur $[0 ; \"+str(n)+\"]$\")\n",
    "    legend()\n",
    "    grid(True)\n",
    "    show()"
   ]
  },
  {
   "cell_type": "markdown",
   "metadata": {},
   "source": [
    "<h3>Formulaires</h3>\n",
    "\n",
    "<div style = \"background-color:rgba(255,79,0,0.3);vertical-align:middle;padding:1%;margin:3% 5% 3% 5%;border:3px black solid;border-radius:13px;box-shadow:9px 9px 9px black;\">\n",
    "<u><b>Proposition <em>(Formulaire I)</em></b></u><br>\n",
    "\n",
    "Soit \\(u\\) une suite ne s'annulant pas à partir d'un certain rang tel que $\\displaystyle{\\lim_{n\\rightarrow+\\infty} u_n=0}$.\n",
    "\n",
    "<ol><li>\\(\\forall \\alpha\\in \\mathbb{R}^*\\) , \\((1+u_n)^\\alpha-1\\sim \\alpha u_n\\)\n",
    "</li><li>\\(\\dfrac{1}{1-u_n}-1\\sim u_n\\)\n",
    "</li><li>\\(\\dfrac{1}{1+u_n}-1\\sim -u_n\\)\n",
    "</li><li>\\(\\sqrt{1+u_n}-1\\sim \\dfrac{1}{2}u_n\\)\n",
    "</li><li>\\(e^{u_n}-1\\sim u_n\\)\n",
    "</li><li>\\(ln(1+u_n)\\sim u_n\\)\n",
    "</li><li>\\(sin(u_n)\\sim u_n\\)\n",
    "</li><li>\\(1-cos(u_n)\\sim \\dfrac{u_n^2}{2}\\)\n",
    "</li><li>\\(tan(u_n)\\sim u_n\\)\n",
    "</li></ol>\n",
    "\n",
    "\n",
    "</div>"
   ]
  },
  {
   "cell_type": "markdown",
   "metadata": {},
   "source": [
    "\n",
    "\n",
    "<div style = \"background-color:rgba(255,79,0,0.3);vertical-align:middle;padding:1%;margin:3% 5% 3% 5%;border:3px black solid;border-radius:13px;box-shadow:9px 9px 9px black;\">\n",
    "<u><b>Proposition <em>(Formulaire II)</em></b></u><br>\n",
    "\n",
    "Soient $a$, $b$, $c$ et $d$ quatre suites ne s'annulant pas à partir d'un certain rang, $\\alpha\\in \\mathbb{R}$.\n",
    "<ol>\n",
    "<li>\\(\\left[(a\\sim b)\\wedge(c\\sim d)\\right]\\Rightarrow (ac\\sim bd)\\)</li>\n",
    "<li>\\(\\left[(a\\sim b)\\wedge(c\\sim d)\\right]\\Rightarrow \\left(\\dfrac{a}{c}\\sim\\dfrac{b}{d}\\right)\\)</li>\n",
    "<li>\\(a\\sim b\\Rightarrow a^\\alpha\\sim b^\\alpha\\)</li>\n",
    "</div>"
   ]
  },
  {
   "cell_type": "markdown",
   "metadata": {},
   "source": [
    "<h3>Exercice 5</h3>\n",
    "<p>Trouver un équivalent à $u_n=\\left(e^{\\frac{1}{n}}-1\\right)ln\\left(\\dfrac{n+1}{n}\\right)$ et vérifier votre résultat à l'aide d'un graphique. En déduire la limite de cette suite.</p>"
   ]
  },
  {
   "cell_type": "code",
   "execution_count": null,
   "metadata": {},
   "outputs": [],
   "source": []
  },
  {
   "cell_type": "markdown",
   "metadata": {},
   "source": [
    "<h3>Exercice 6</h3>\n",
    "<p>Trouver un équivalent à $u_n=\\dfrac{n^{\\frac{2n+1}{2}}e^{-n}}{n!}$ et vérifier votre résultat à l'aide d'un graphique.  En déduire la limite de cette suite.</p>"
   ]
  },
  {
   "cell_type": "code",
   "execution_count": null,
   "metadata": {},
   "outputs": [],
   "source": []
  },
  {
   "cell_type": "markdown",
   "metadata": {},
   "source": [
    "<h3>Exercice 7</h3>\n",
    "<p>Trouver un équivalent à $u_n=n^\\alpha\\sqrt{1-cos\\left(\\dfrac{1}{n}\\right)}$ pour tout $a\\in \\mathbb{R}$ et vérifier votre résultat à l'aide d'un graphique. En déduire la limite de cette suite.</p>"
   ]
  },
  {
   "cell_type": "code",
   "execution_count": null,
   "metadata": {},
   "outputs": [],
   "source": []
  },
  {
   "cell_type": "markdown",
   "metadata": {},
   "source": [
    "<h3>Exercice 8</h3>\n",
    "<p>L'ordinateur est dans le fond un objet de calcul plutôt élementaire. Le <em>ou</em> de la logique est en fait une addation et le <em>et</em> une multiplication. En s'appuyant sur ces outils, en rajoutant un bit de signe par exemple, on peut définir <em>assez facilement</em> la soustracion et <em>un peu moins facilement</em> la division. En bref, les quatres opérations élémentaires se programment assez facilement en bas niveau. Mais comment fait l'ordinateur pour calculer une racine carré par exemple ?\n",
    "\n",
    "On peut démontrer que la suite \n",
    "$\n",
    "\\left\\{\n",
    "\\begin{array}{rcl}\n",
    "u_0&=&1\\\\\n",
    "u_{n+1}&=& \\dfrac{1}{2}\\left(u_n+\\dfrac{2}{u_n}\\right)\n",
    "\\end{array}\n",
    "\\right.\n",
    "$\n",
    "    tend vers $\\sqrt{2}$.\n",
    "    <ol>\n",
    "        <li>Calculer $u_{0}, \\ldots, u_{5}$</li>\n",
    "        <li>Déterminer le plus petit entier $n$ tel que $u_n$ vaut $\\sqrt{2}$ à $5$, $10$ puis $15$ décimales correctes.</li>\n",
    "        <li>Modifier la suite $u$ pour déterminer une valeur approchée de $\\sqrt{5}$</li>\n",
    "        <li>Quelle valeure est approchée par la suite $v_n=\\left(1+\\dfrac{1}{n}\\right)^n$. Comparer cette formule avec la vraie valeure de python à $3$ décimales près.</li>\n",
    "    </ol>\n",
    "</p>"
   ]
  },
  {
   "cell_type": "code",
   "execution_count": null,
   "metadata": {},
   "outputs": [],
   "source": []
  },
  {
   "cell_type": "markdown",
   "metadata": {},
   "source": [
    "<h3>Exercice 9</h3>\n",
    "<p>On considère la suite \n",
    "$\n",
    "\\left\\{\n",
    "\\begin{array}{rcl}\n",
    "u_0&=&0.2\\\\\n",
    "u_{n+1}&=&-\\dfrac{1}{2}u_n+1\n",
    "\\end{array}\n",
    "\\right.\n",
    "$\n",
    "    <ol>\n",
    "        <li>Ecrire la fonction <code>U_n</code> qui prend en paramètre un entier $n$ et qui renvoie la <u>liste</u> des $n+1$ premier terme de la suite (de $u_0$ à $u_n$).\n",
    "        </li>\n",
    "        <li>Dans un graphique, déssiner la droite $x\\mapsto -\\dfrac{1}{2}x+1$ sur l'intervale $[0 ; 1.1]$ bleue.</li>\n",
    "        <li>Sur ce même graphique, déssiner la droite $y=x$ en vert.</li>\n",
    "        <li> Considérons les points $X_n$ et $Y_n$ de coordonnées respectives $(u_n, u_{n+1})$ et $(u_n, u_n)$. \n",
    "            Ecrire les fonctions <code>X_n</code> et <code>Y_n</code> qui prennent en paramètre un entier $n$ et la liste <code>U</code> des termes de la suite et qui renvoient les coordonnées des points éponymes. Ces coordonnées pourront être stockées dans un tableau ou dans un tuple.\n",
    "        </li>\n",
    "        <li>\n",
    "            Sur ce même graphique, déssiner en rouge les segments $[X_nY_{n+1}]$ et $[Y_{n+1}X_{n+1}]$ pour $n$ prennant les valeurs entière entre $0$ et $8$ (attention aux indices).</li>\n",
    "        <li>Quelle conjecture pouvez-vous faire sur la limite de la suite $u_n$ ?</li>\n",
    "    </ol>\n",
    "</p>"
   ]
  },
  {
   "cell_type": "code",
   "execution_count": null,
   "metadata": {},
   "outputs": [],
   "source": []
  },
  {
   "cell_type": "markdown",
   "metadata": {},
   "source": [
    "<h3>Exercice 10</h3>\n",
    "<p>Même exercice que précédement avec la suite \n",
    "$\n",
    "\\left\\{\n",
    "\\begin{array}{rcl}\n",
    "u_0&=&1\\\\\n",
    "u_{n+1}&=&sin(u_n)\n",
    "\\end{array}\n",
    "\\right.\n",
    "$\n",
    "</p>"
   ]
  },
  {
   "cell_type": "code",
   "execution_count": null,
   "metadata": {},
   "outputs": [],
   "source": []
  }
 ],
 "metadata": {
  "kernelspec": {
   "display_name": "Python 3 (ipykernel)",
   "language": "python",
   "name": "python3"
  },
  "language_info": {
   "codemirror_mode": {
    "name": "ipython",
    "version": 3
   },
   "file_extension": ".py",
   "mimetype": "text/x-python",
   "name": "python",
   "nbconvert_exporter": "python",
   "pygments_lexer": "ipython3",
   "version": "3.9.13"
  }
 },
 "nbformat": 4,
 "nbformat_minor": 2
}
